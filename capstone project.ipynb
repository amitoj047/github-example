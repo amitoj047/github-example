{
 "cells": [
  {
   "cell_type": "markdown",
   "metadata": {
    "collapsed": true
   },
   "source": [
    "# INTRODUCTION/BUSINESS PROBLEM"
   ]
  },
  {
   "cell_type": "markdown",
   "metadata": {},
   "source": [
    "### The city I am going to choose is the city of Mumbai, India. Mumbai is one of the most populated cities in the world and thus provides a lot of business opportunities. So I will be solving the problem of Suresh who wants to open a Chinese restaurant in Mumbai. Now since Mumbai is a very large and densely populated cities, Suresh does not know in which locality(neighbourhood) he should setup his business so that it is profitable and guarantees future returns. Thus, I will help Suresh in deciding the neighbourhood(locality) he should setup business and why."
   ]
  },
  {
   "cell_type": "markdown",
   "metadata": {},
   "source": [
    "# DATA"
   ]
  },
  {
   "cell_type": "markdown",
   "metadata": {},
   "source": [
    "### Data is significantly important in a data science problem and thus I would collect data on different type of restaurants in different neighbourhoods in Mumbai. The data would contain the following aspects\n",
    "\n",
    "### 1) location of neighbourhoods\n",
    "### 2) number and type of restaurants in each neighbourehood(eg; American, Chinese, Japanese)\n",
    "### 3) reviews of the restaurants which would tell us how good is each restaurant\n",
    "### 4) size(capacity)\n",
    "\n",
    "### With all these aspects of data, we can find out which type of restaurants is most famous among Mumbaikars telling us the food preference of people of Mumbai and number of restaurants will tell us about the competition in each neighbourhood. The size of restaurants indicates its capacity, how many customers it can fit and how many customers it generally serves per day. The reivew refers to the direct comments from customers, which is also essential to rank a restaurant. The location of restaurants, along with the type information, could help us to determine the best location of the new restaurant. "
   ]
  },
  {
   "cell_type": "code",
   "execution_count": null,
   "metadata": {},
   "outputs": [],
   "source": []
  }
 ],
 "metadata": {
  "kernelspec": {
   "display_name": "Python 3.6",
   "language": "python",
   "name": "python3"
  },
  "language_info": {
   "codemirror_mode": {
    "name": "ipython",
    "version": 3
   },
   "file_extension": ".py",
   "mimetype": "text/x-python",
   "name": "python",
   "nbconvert_exporter": "python",
   "pygments_lexer": "ipython3",
   "version": "3.6.9"
  }
 },
 "nbformat": 4,
 "nbformat_minor": 1
}
